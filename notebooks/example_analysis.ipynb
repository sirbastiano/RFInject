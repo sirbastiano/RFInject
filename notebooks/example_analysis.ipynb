{
 "cells": [
  {
   "cell_type": "markdown",
   "id": "fd180078",
   "metadata": {},
   "source": [
    "# Example Notebook\n",
    "\n",
    "Copyright 2025 [Your Name/Organization]\n",
    "\n",
    "Licensed under the Apache License, Version 2.0 (the \"License\");\n",
    "you may not use this file except in compliance with the License.\n",
    "You may obtain a copy of the License at\n",
    "\n",
    "    http://www.apache.org/licenses/LICENSE-2.0\n",
    "\n",
    "Unless required by applicable law or agreed to in writing, software\n",
    "distributed under the License is distributed on an \"AS IS\" BASIS,\n",
    "WITHOUT WARRANTIES OR CONDITIONS OF ANY KIND, either express or implied.\n",
    "See the License for the specific language governing permissions and\n",
    "limitations under the License.\n",
    "\n",
    "---\n",
    "\n",
    "This notebook demonstrates the project's coding standards and provides examples of data analysis and visualization."
   ]
  },
  {
   "cell_type": "markdown",
   "id": "58165f28",
   "metadata": {},
   "source": [
    "## Setup and Imports"
   ]
  },
  {
   "cell_type": "code",
   "execution_count": null,
   "id": "045e1e02",
   "metadata": {},
   "outputs": [],
   "source": [
    "import numpy as np\n",
    "import pandas as pd\n",
    "import matplotlib.pyplot as plt\n",
    "from typing import List, Dict, Optional\n",
    "\n",
    "# Configure matplotlib for better plots\n",
    "plt.style.use('default')\n",
    "plt.rcParams['figure.figsize'] = (10, 6)\n",
    "plt.rcParams['font.size'] = 12"
   ]
  },
  {
   "cell_type": "markdown",
   "id": "d7de904c",
   "metadata": {},
   "source": [
    "## Data Generation Example"
   ]
  },
  {
   "cell_type": "code",
   "execution_count": null,
   "id": "0af833f3",
   "metadata": {},
   "outputs": [],
   "source": [
    "def generate_sample_data(n_samples: int = 100, seed: Optional[int] = None) -> pd.DataFrame:\n",
    "    \"\"\"\n",
    "    Generate sample data for demonstration purposes.\n",
    "    \n",
    "    Args:\n",
    "        n_samples (int): Number of samples to generate.\n",
    "        seed (Optional[int]): Random seed for reproducibility.\n",
    "        \n",
    "    Returns:\n",
    "        pd.DataFrame: Generated sample data.\n",
    "    \"\"\"\n",
    "    assert isinstance(n_samples, int) and n_samples > 0, 'n_samples must be a positive integer'\n",
    "    assert seed is None or isinstance(seed, int), 'seed must be an integer or None'\n",
    "    \n",
    "    if seed is not None:\n",
    "        np.random.seed(seed)\n",
    "    \n",
    "    data = {\n",
    "        'x': np.random.randn(n_samples),\n",
    "        'y': np.random.randn(n_samples) * 2 + 1,\n",
    "        'category': np.random.choice(['A', 'B', 'C'], n_samples),\n",
    "        'value': np.random.exponential(2, n_samples)\n",
    "    }\n",
    "    \n",
    "    return pd.DataFrame(data)\n",
    "\n",
    "# Generate sample data\n",
    "df = generate_sample_data(n_samples=200, seed=42)\n",
    "print(f'Generated dataset with shape: {df.shape}')\n",
    "df.head()"
   ]
  },
  {
   "cell_type": "markdown",
   "id": "a956ac8a",
   "metadata": {},
   "source": [
    "## Data Analysis"
   ]
  },
  {
   "cell_type": "code",
   "execution_count": null,
   "id": "dd2e3293",
   "metadata": {},
   "outputs": [],
   "source": [
    "# Basic statistics\n",
    "print('Dataset Summary:')\n",
    "print(df.describe())\n",
    "\n",
    "print('\\nCategory Distribution:')\n",
    "print(df['category'].value_counts())"
   ]
  },
  {
   "cell_type": "markdown",
   "id": "a443d149",
   "metadata": {},
   "source": [
    "## Visualization Examples"
   ]
  },
  {
   "cell_type": "code",
   "execution_count": null,
   "id": "aadf33a5",
   "metadata": {},
   "outputs": [],
   "source": [
    "# Create subplots\n",
    "fig, axes = plt.subplots(2, 2, figsize=(15, 12))\n",
    "\n",
    "# Scatter plot\n",
    "axes[0, 0].scatter(df['x'], df['y'], alpha=0.6, c='blue')\n",
    "axes[0, 0].set_xlabel('X values')\n",
    "axes[0, 0].set_ylabel('Y values')\n",
    "axes[0, 0].set_title('Scatter Plot: X vs Y')\n",
    "axes[0, 0].grid(True, alpha=0.3)\n",
    "\n",
    "# Histogram\n",
    "axes[0, 1].hist(df['value'], bins=20, alpha=0.7, color='green', edgecolor='black')\n",
    "axes[0, 1].set_xlabel('Value')\n",
    "axes[0, 1].set_ylabel('Frequency')\n",
    "axes[0, 1].set_title('Distribution of Values')\n",
    "axes[0, 1].grid(True, alpha=0.3)\n",
    "\n",
    "# Box plot by category\n",
    "categories = df['category'].unique()\n",
    "box_data = [df[df['category'] == cat]['value'] for cat in categories]\n",
    "axes[1, 0].boxplot(box_data, labels=categories)\n",
    "axes[1, 0].set_xlabel('Category')\n",
    "axes[1, 0].set_ylabel('Value')\n",
    "axes[1, 0].set_title('Value Distribution by Category')\n",
    "axes[1, 0].grid(True, alpha=0.3)\n",
    "\n",
    "# Correlation heatmap (for numerical columns)\n",
    "corr_matrix = df[['x', 'y', 'value']].corr()\n",
    "im = axes[1, 1].imshow(corr_matrix, cmap='coolwarm', aspect='auto', vmin=-1, vmax=1)\n",
    "axes[1, 1].set_xticks(range(len(corr_matrix.columns)))\n",
    "axes[1, 1].set_yticks(range(len(corr_matrix.columns)))\n",
    "axes[1, 1].set_xticklabels(corr_matrix.columns)\n",
    "axes[1, 1].set_yticklabels(corr_matrix.columns)\n",
    "axes[1, 1].set_title('Correlation Matrix')\n",
    "\n",
    "# Add correlation values to heatmap\n",
    "for i in range(len(corr_matrix.columns)):\n",
    "    for j in range(len(corr_matrix.columns)):\n",
    "        text = axes[1, 1].text(j, i, f'{corr_matrix.iloc[i, j]:.2f}',\n",
    "                              ha='center', va='center', color='black', fontweight='bold')\n",
    "\n",
    "# Add colorbar\n",
    "plt.colorbar(im, ax=axes[1, 1], shrink=0.8)\n",
    "\n",
    "plt.tight_layout()\n",
    "plt.show()"
   ]
  },
  {
   "cell_type": "markdown",
   "id": "e4b8aa57",
   "metadata": {},
   "source": [
    "## Summary\n",
    "\n",
    "This notebook demonstrates:\n",
    "- Proper Apache 2.0 license attribution\n",
    "- Code formatting following the project's standards\n",
    "- Type hints usage\n",
    "- Function documentation with Google docstring format\n",
    "- Data analysis and visualization examples\n",
    "- Use of assertions for input validation\n",
    "\n",
    "The code follows the project's coding standards:\n",
    "- Snake_case for variables and functions\n",
    "- PascalCase for classes\n",
    "- Single quotes for strings\n",
    "- F-strings for formatting\n",
    "- Proper type hints\n",
    "- Google-style docstrings with triple double quotes"
   ]
  }
 ],
 "metadata": {
  "language_info": {
   "name": "python"
  }
 },
 "nbformat": 4,
 "nbformat_minor": 5
}
